{
 "cells": [
  {
   "cell_type": "code",
   "execution_count": 24,
   "metadata": {},
   "outputs": [
    {
     "data": {
      "text/plain": [
       "Abstract changed, previous concretes discarded.\n"
      ]
     },
     "metadata": {},
     "output_type": "display_data"
    }
   ],
   "source": [
    "-- Abstract Syntax\n",
    "abstract ContractGrammar = {\n",
    "  flags startcat = Expr ;\n",
    "  cat\n",
    "    Expr ; Adjective ; Noun ; Address ; Value ; Result ; AllowedExpr ;\n",
    "  fun\n",
    "    Postcondition : AllowedExpr -> Result -> Expr ;\n",
    "    MkAllowed : Address -> Address -> Value -> AllowedExpr ;\n",
    "    OldUint : AllowedExpr -> AllowedExpr ;\n",
    "    Not : Result -> Result ;\n",
    "    Successful : Result ;\n",
    "    Unchanged : Adjective ;\n",
    "    Sender : Address ;\n",
    "    Spender : Address ;\n",
    "    TokenValue : Value ;\n",
    "    Bool : Result -> Expr ;\n",
    "}"
   ]
  },
  {
   "cell_type": "code",
   "execution_count": 25,
   "metadata": {},
   "outputs": [
    {
     "data": {
      "text/plain": [
       "Defined ContractGrammarEng"
      ]
     },
     "metadata": {},
     "output_type": "display_data"
    }
   ],
   "source": [
    "-- Concrete Syntax\n",
    "concrete ContractGrammarEng of ContractGrammar = {\n",
    "  lincat\n",
    "    Expr = Str ; Adjective = Str ; Noun = Str ;\n",
    "    Address = Str ; Value = Str ; Result = Str ; AllowedExpr = Str ;\n",
    "  lin\n",
    "    Postcondition allowedExpr res = \"postcondition (\" ++ allowedExpr ++ \" && \" ++ res ++ \")\";\n",
    "    MkAllowed addr1 addr2 val = \"allowed[\" ++ addr1 ++ \"][\" ++ addr2 ++ \"] == \" ++ val;\n",
    "    OldUint allowedExpr = \"__verifier_old_uint(\" ++ allowedExpr ++ \")\";\n",
    "    Not res = \"!\" ++ res;\n",
    "    Successful = \"success\";\n",
    "    Unchanged = \"unchanged\";\n",
    "    Sender = \"msg.sender\";\n",
    "    Spender = \"_spender\";\n",
    "    TokenValue = \"_value\";\n",
    "    Bool res = res;\n",
    "}"
   ]
  },
  {
   "cell_type": "code",
   "execution_count": 26,
   "metadata": {},
   "outputs": [
    {
     "data": {
      "text/plain": [
       "postcondition ( allowed[ msg.sender ][ _spender ] == _value && success )\n"
      ]
     },
     "metadata": {},
     "output_type": "display_data"
    }
   ],
   "source": [
    "linearize Postcondition (MkAllowed Sender Spender TokenValue) Successful"
   ]
  },
  {
   "cell_type": "code",
   "execution_count": null,
   "metadata": {},
   "outputs": [],
   "source": []
  }
 ],
 "metadata": {
  "kernelspec": {
   "display_name": "GF",
   "language": "gf",
   "name": "gf"
  },
  "language_info": {
   "file_extension": ".gf",
   "mimetype": "text/gf",
   "name": "gf"
  }
 },
 "nbformat": 4,
 "nbformat_minor": 4
}
