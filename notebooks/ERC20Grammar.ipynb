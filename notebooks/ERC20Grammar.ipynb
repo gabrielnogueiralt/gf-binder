{
 "cells": [
  {
   "cell_type": "code",
   "execution_count": 167,
   "metadata": {},
   "outputs": [
    {
     "data": {
      "text/plain": [
       "Abstract changed, previous concretes discarded.\n"
      ]
     },
     "metadata": {},
     "output_type": "display_data"
    }
   ],
   "source": [
    "abstract ERC20 = {\n",
    "    flags startcat = Description;\n",
    "    cat\n",
    "        Description;\n",
    "        Expression;\n",
    "        Variable;\n",
    "        BoolOperator;\n",
    "        ArithmeticOperator;\n",
    "    fun\n",
    "        mkDescription: Expression -> Description;\n",
    "        mkComparativeExpression: Variable -> BoolOperator -> Variable -> Expression;\n",
    "        mkSuccessTransferExpression: Expression -> Expression -> BoolOperator -> Variable -> Expression;\n",
    "        mkTransferOldBalance: Variable -> BoolOperator -> Variable -> Expression;\n",
    "        mkTransferSameAddress: BoolOperator -> Variable -> BoolOperator -> Variable -> Expression;\n",
    "        plus, minus: ArithmeticOperator;\n",
    "        equals, isNotEqual, and, or: BoolOperator;\n",
    "        totalSupply, supply, balancesOwner, balance, allowed, remaining, senderAdress, senderNewBalance, oldBalance, transferredValue, recipientAddress, isSuccessful, isNotSuccessful: Variable;\n",
    "}"
   ]
  },
  {
   "cell_type": "code",
   "execution_count": 168,
   "metadata": {},
   "outputs": [
    {
     "data": {
      "text/plain": [
       "Defined ERC20Formal"
      ]
     },
     "metadata": {},
     "output_type": "display_data"
    }
   ],
   "source": [
    "concrete ERC20Formal of ERC20 = {\n",
    "    lincat\n",
    "        Expression = {str: Str};\n",
    "        Description = {str: Str};\n",
    "        Variable = {name: Str; desc: Str};\n",
    "        BoolOperator = {str: Str};\n",
    "        ArithmeticOperator = {str: Str};\n",
    "    lin\n",
    "        equals = {str = \"==\"};\n",
    "        isNotEqual = {str = \"!=\"};\n",
    "        and = {str = \"&&\"};\n",
    "        or = {str = \"||\"};\n",
    "        minus = {str = \"-\"};\n",
    "        totalSupply = {name = \"_totalSupply\"; desc = \"_totalSupply\"};\n",
    "        supply = {name = \"supply\"; desc = \"supply\"};\n",
    "        balancesOwner = {name = \"_balances[owner]\"; desc = \"_balances[owner]\"};\n",
    "        balance = {name = \"balance\"; desc = \"balance\"};\n",
    "        allowed = {name = \"_allowed[owner][spender]\"; desc = \"_allowed[owner][spender]\"};\n",
    "        remaining = {name = \"remaining\"; desc = \"remaining\"};\n",
    "        senderAdress = {name = \"msg.sender\"; desc = \"msg.sender\"};\n",
    "        senderNewBalance = {name = \"_balances[msg.sender]\"; desc = \"_balances[msg.sender]\"};\n",
    "        oldBalance = {name = \"__verifier_old_uint(_balances[msg.sender])\"; desc = \"__verifier_old_uint\"};\n",
    "        transferredValue = {name = \"vaAlue\"; desc = \"value\"};\n",
    "        recipientAddress = {name = \"to\"; desc = \"to\"};\n",
    "        isSuccessful = {name = \"success\"; desc = \"success\"};\n",
    "        isNotSuccessful = {name = \"!success\"; desc = \"!success\"};\n",
    "        mkComparativeExpression var1 boolOp var2 = {str = var1.name ++ boolOp.str ++ var2.name};\n",
    "        mkTransferKeepBalance var1 boolOp var2 = {str = \"(\" ++ var1.name ++ boolOp.str ++ var2.name ++ \")\"};\n",
    "        mkTransferSameAddress boolOp1 var1 boolOp2 var2 = {str = boolOp1.str ++ var1.name ++ boolOp2.str ++ var2.name};\n",
    "        mkSuccessTransferExpression exp1 exp2 boolOp var = {str = exp1.str ++ exp2.str ++ boolOp.str ++ var.name};\n",
    "        mkDescription exp = exp;\n",
    "}"
   ]
  },
  {
   "cell_type": "code",
   "execution_count": 169,
   "metadata": {},
   "outputs": [
    {
     "data": {
      "text/plain": [
       "Defined ERC20Eng"
      ]
     },
     "metadata": {},
     "output_type": "display_data"
    }
   ],
   "source": [
    "concrete ERC20Eng of ERC20 = {\n",
    "    lincat\n",
    "        Expression = {str: Str};\n",
    "        Description = {str: Str};\n",
    "        Variable = {name: Str; desc: Str};\n",
    "        BoolOperator = {str: Str};\n",
    "        ArithmeticOperator = {str: Str};\n",
    "    lin\n",
    "        equals = {str = variants {\"should be equal to\" ; \"is equal to\"}};\n",
    "        isNotEqual = {str = \"is not equal to\"};\n",
    "        and = {str = variants {\"and\" ; \"if\"}};\n",
    "        or = {str = \"or\"};\n",
    "        minus = {str = \"minus\"};\n",
    "        supply = {name = \"supply\"; desc = \"resulting total supply of tokens\"};\n",
    "        totalSupply = {name = \"_totalSupply\"; desc = \"total supply of tokens\"};\n",
    "        balancesOwner = {name = \"_balances[owner]\"; desc = \"resulting balance of the specified address\"};\n",
    "        balance = {name = \"balance\"; desc = \"balance of the specified address\"};\n",
    "        allowed = {name = \"_allowed[owner][spender]\"; desc = \"resulting allowance of the specified address\"};\n",
    "        remaining = {name = \"remaining\"; desc = \"allowance of the specified address\"};\n",
    "        senderAdress = {name = \"msg.sender\"; desc = \"sender address\"};\n",
    "        senderNewBalance = {name = \"_balances[msg.sender]\"; desc = \"sender new balance\"};\n",
    "        oldBalance = {name = \"__verifier_old_uint\"; desc = \"old balance\"};\n",
    "        transferredValue = {name = \"value\"; desc = \"transferred value\"};\n",
    "        recipientAddress = {name = \"to\"; desc = \"recipient address\"};\n",
    "        isSuccessful = {name = \"success\"; desc = \"is successful\"};\n",
    "        isNotSuccessful = {name = \"success\"; desc = \"is not successful\"};\n",
    "        mkComparativeExpression var1 boolOp var2 = {str = \"the\" ++ var1.desc ++ boolOp.str ++ \"the\" ++ var2.desc};\n",
    "        mkTransferOldBalance var1 boolOp var2 = {str = \"the\" ++ var1.desc ++ boolOp.str ++ \"their\" ++ var2.desc};\n",
    "        mkTransferSameAddress boolOp1 var1 boolOp2 var2 = {str = boolOp1.str ++ \"the\" ++ var1.desc ++ boolOp2.str ++ \"the\" ++ var2.desc};\n",
    "        mkSuccessTransferExpression exp1 exp2 boolOp var = {str = exp1.str ++ exp2.str ++ boolOp.str ++ \"the transfer\" ++ var.desc};\n",
    "        mkDescription exp = exp;\n",
    "}"
   ]
  },
  {
   "cell_type": "markdown",
   "metadata": {},
   "source": [
    "### function totalSupply() external view returns (uint256);"
   ]
  },
  {
   "cell_type": "code",
   "execution_count": 144,
   "metadata": {},
   "outputs": [
    {
     "data": {
      "text/plain": [
       "supply == _totalSupply\n"
      ]
     },
     "metadata": {},
     "output_type": "display_data"
    }
   ],
   "source": [
    "parse -lang=ERC20Eng \"the resulting total supply of tokens should be equal to the total supply of tokens\" | linearize -lang=ERC20Formal"
   ]
  },
  {
   "cell_type": "markdown",
   "metadata": {},
   "source": [
    "### function balanceOf(address who) external view returns (uint256);"
   ]
  },
  {
   "cell_type": "code",
   "execution_count": 25,
   "metadata": {},
   "outputs": [
    {
     "data": {
      "text/plain": [
       "_balances[owner] == balance\n"
      ]
     },
     "metadata": {},
     "output_type": "display_data"
    }
   ],
   "source": [
    "parse -lang=ERC20Eng \"the resulting balance of the specified address should be equal to the balance of the specified address\" | linearize -lang=ERC20Formal"
   ]
  },
  {
   "cell_type": "markdown",
   "metadata": {},
   "source": [
    "### function allowance(address owner, address spender) external view returns (uint256);"
   ]
  },
  {
   "cell_type": "code",
   "execution_count": 26,
   "metadata": {},
   "outputs": [
    {
     "data": {
      "text/plain": [
       "_allowed[owner][spender] == remaining\n"
      ]
     },
     "metadata": {},
     "output_type": "display_data"
    }
   ],
   "source": [
    "parse -lang=ERC20Eng \"the resulting allowance of the specified address should be equal to the allowance of the specified address\" | linearize -lang=ERC20Formal"
   ]
  },
  {
   "cell_type": "markdown",
   "metadata": {},
   "source": [
    "### function transfer(address to, uint256 value) external returns (bool);"
   ]
  },
  {
   "cell_type": "code",
   "execution_count": 131,
   "metadata": {},
   "outputs": [
    {
     "data": {
      "text/plain": [
       "mkDescription (mkTransferKeepBalance senderNewBalance equals oldBalance)\n"
      ]
     },
     "metadata": {},
     "output_type": "display_data"
    }
   ],
   "source": [
    "parse -lang=ERC20Eng \"the sender new balance should be equal to their old balance\""
   ]
  },
  {
   "cell_type": "code",
   "execution_count": 132,
   "metadata": {},
   "outputs": [
    {
     "data": {
      "text/plain": [
       "mkDescription (mkTransferSameAddress and senderAdress equals recipientAddress)\n"
      ]
     },
     "metadata": {},
     "output_type": "display_data"
    }
   ],
   "source": [
    "parse -lang=ERC20Eng \"if the sender address is equal to the recipient address\""
   ]
  },
  {
   "cell_type": "code",
   "execution_count": 170,
   "metadata": {},
   "outputs": [
    {
     "data": {
      "text/plain": [
       "the sender new balance should be equal to their old balance and the sender address should be equal to the recipient address and the transfer is successful\n",
       "[mkTransferOldBalance] && msg.sender == to && success\n"
      ]
     },
     "metadata": {},
     "output_type": "display_data"
    }
   ],
   "source": [
    "parse -lang=ERC20Eng \"the sender new balance should be equal to their old balance if the sender address is equal to the recipient address and the transfer is successful\" | linearize"
   ]
  },
  {
   "cell_type": "code",
   "execution_count": null,
   "metadata": {},
   "outputs": [],
   "source": [
    "parse -lang=ERC20Eng "
   ]
  }
 ],
 "metadata": {
  "kernelspec": {
   "display_name": "GF",
   "language": "gf",
   "name": "gf"
  },
  "language_info": {
   "file_extension": ".gf",
   "mimetype": "text/gf",
   "name": "gf"
  }
 },
 "nbformat": 4,
 "nbformat_minor": 4
}
