{
 "cells": [
  {
   "cell_type": "code",
   "execution_count": 437,
   "metadata": {},
   "outputs": [
    {
     "data": {
      "text/plain": [
       "Defined ERC20"
      ]
     },
     "metadata": {},
     "output_type": "display_data"
    }
   ],
   "source": [
    "abstract ERC20 = {\n",
    "    flags startcat = Description;\n",
    "    cat\n",
    "        Description;\n",
    "        Expression;\n",
    "        Variable;\n",
    "        BoolOperator;\n",
    "        ArithmeticOperator;\n",
    "    fun\n",
    "        mkDescription: Expression -> Description;\n",
    "        \n",
    "        mkComparativeExpression: Variable -> BoolOperator -> Variable -> Expression;\n",
    "        \n",
    "        mkSenderNewBalance: Expression -> BoolOperator -> Expression -> BoolOperator -> Variable -> Expression;\n",
    "        mkTransferKeepBalance: Expression -> Expression -> BoolOperator -> Variable -> Expression;\n",
    "        mkOldBalancePlusMinusTransferredValue: Expression -> ArithmeticOperator -> Variable -> Expression;\n",
    "        mkTransferSubctractBalance: Expression -> ArithmeticOperator -> Variable -> Expression -> Expression;\n",
    "        mkTransferOldBalance: Variable -> BoolOperator -> Variable -> Expression;\n",
    "        mkTransferSameOrDifferentAddress: BoolOperator -> Variable -> BoolOperator -> Variable -> Expression;\n",
    "        \n",
    "        mkApproveExpression: Expression -> BoolOperator -> Variable -> BoolOperator -> Expression -> BoolOperator -> Variable -> Expression;\n",
    "    \n",
    "        plus, minus: ArithmeticOperator;\n",
    "        equals, isNotEqual, and, or: BoolOperator;\n",
    "        totalSupply, supply, balancesOwner, balance, allowed, remaining, senderAdress, senderNewBalance, recipientNewBalance, oldBalance, transferredValue, recipientAddress, isSuccessful, isNotSuccessful, spenderAllowance, specifiedValue, previousValue: Variable;\n",
    "}"
   ]
  },
  {
   "cell_type": "code",
   "execution_count": 438,
   "metadata": {},
   "outputs": [
    {
     "data": {
      "text/plain": [
       "Defined ERC20Eng"
      ]
     },
     "metadata": {},
     "output_type": "display_data"
    }
   ],
   "source": [
    "concrete ERC20Eng of ERC20 = {\n",
    "    lincat\n",
    "        Expression = {str: Str};\n",
    "        Description = {str: Str};\n",
    "        Variable = {name: Str; desc: Str};\n",
    "        BoolOperator = {str: Str};\n",
    "        ArithmeticOperator = {str: Str};\n",
    "    lin\n",
    "        equals = {str = variants {\"should be equal to\" ; \"must be equal to\" ; \"is equal to\" ; \"should be the same as\" ; \"must be the same as\"}};\n",
    "        isNotEqual = {str = variants {\"is not equal to\" ; \"should be different from\"; \"must be different from\" ; \"must not be equal to\" ; \"should not be equal to\" ; \"should not be the same as\" ; \"must not be the same as\" }};\n",
    "        and = {str = variants {\"and\" ; \"if\"}};\n",
    "        or = {str = \"or\"};\n",
    "        plus = {str = \"plus\"};\n",
    "        minus = {str = \"minus\"};\n",
    "    \n",
    "        isSuccessful = {name = \"success\"; desc = \"is successful\"};\n",
    "        isNotSuccessful = {name = \"success\"; desc = \"is not successful\"};\n",
    "        \n",
    "        supply = {name = \"supply\"; desc = \"resulting total supply of tokens\"};\n",
    "        totalSupply = {name = \"_totalSupply\"; desc = \"total supply of tokens\"};\n",
    "        balancesOwner = {name = \"_balances[owner]\"; desc = \"resulting balance of the specified address\"};\n",
    "        balance = {name = \"balance\"; desc = \"balance of the specified address\"};\n",
    "        allowed = {name = \"_allowed[owner][spender]\"; desc = \"resulting allowance of the specified address\"};\n",
    "        remaining = {name = \"remaining\"; desc = \"allowance of the specified address\"};\n",
    "        senderAdress = {name = \"msg.sender\"; desc = \"sender address\"};\n",
    "        senderNewBalance = {name = \"_balances[msg.sender]\"; desc = \"sender new balance\"};\n",
    "        recipientNewBalance = {name = \"_balances[to]\"; desc = \"recipient new balance\"};\n",
    "        oldBalance = {name = \"__verifier_old_uint\"; desc = \"old balance\"};\n",
    "        transferredValue = {name = \"value\"; desc = \"transferred value\"};\n",
    "        recipientAddress = {name = \"to\"; desc = \"recipient address\"};\n",
    "    \n",
    "        spenderAllowance = {name = \"spenderAllowance\"; desc = \"spender allowance\"};\n",
    "        specifiedValue = {name = \"value\" ; desc = \"specified value\"};\n",
    "        previousValue = {name = \"__verifier_old_uint(_allowed[msg.sender ][ spender])\" ; desc = \"previous value\"};\n",
    "        \n",
    "        mkComparativeExpression var1 boolOp var2 = {str = \"the\" ++ var1.desc ++ boolOp.str ++ \"the\" ++ var2.desc};\n",
    "        \n",
    "        mkApproveExpression exp1 boolOp1 var1 boolOp2 exp2 boolOp3 var2 = {str = exp1.str ++ boolOp1.str ++ \"the operation\" ++ var1.desc ++ boolOp2.str ++ exp2.str ++ boolOp3.str ++ \"the operation\" ++ var2.desc};\n",
    "        \n",
    "        mkTransferOldBalance var1 boolOp var2 = {str = \"the\" ++ var1.desc ++ boolOp.str ++ \"their\" ++ var2.desc};\n",
    "        mkTransferSameOrDifferentAddress boolOp1 var1 boolOp2 var2 = {str = boolOp1.str ++ \"the\" ++ var1.desc ++ boolOp2.str ++ \"the\" ++ var2.desc};\n",
    "        mkTransferKeepBalance exp1 exp2 boolOp var = {str = exp1.str ++ exp2.str ++ boolOp.str ++ \"the transfer\" ++ var.desc};\n",
    "        mkOldBalancePlusMinusTransferredValue exp1 ariOp var = {str = exp1.str ++ ariOp.str ++ \"the\" ++ var.desc};\n",
    "        mkTransferSubctractBalance exp1 ariOp var exp2 = {str = exp1.str ++ ariOp.str ++ \"the\" ++ var.desc ++ exp2.str};\n",
    "        mkSenderNewBalance exp1 boolOp1 exp2 boolOp2 var = {str = exp1.str ++ boolOp1.str ++ exp2.str ++ boolOp2.str ++ \"the transfer\" ++ var.desc};\n",
    "        \n",
    "        mkDescription exp = exp;\n",
    "}"
   ]
  },
  {
   "cell_type": "code",
   "execution_count": 455,
   "metadata": {},
   "outputs": [
    {
     "data": {
      "text/plain": [
       "Defined ERC20Formal"
      ]
     },
     "metadata": {},
     "output_type": "display_data"
    }
   ],
   "source": [
    "concrete ERC20Formal of ERC20 = {\n",
    "    lincat\n",
    "        Expression = {str: Str};\n",
    "        Description = {str: Str};\n",
    "        Variable = {str: Str};\n",
    "        BoolOperator = {str: Str};\n",
    "        ArithmeticOperator = {str: Str};\n",
    "    lin\n",
    "        equals = {str = \"==\"};\n",
    "        isNotEqual = {str = \"!=\"};\n",
    "        and = {str = \"&&\"};\n",
    "        or = {str = \"||\"};\n",
    "        plus = {str = \"+\"};\n",
    "        minus = {str = \"-\"};\n",
    "    \n",
    "        isSuccessful = {str = \"success\"};\n",
    "        isNotSuccessful = {str = \"!success\"};\n",
    "        \n",
    "        supply = {str = \"supply\"};\n",
    "        totalSupply = {str = \"_totalSupply\"};\n",
    "        balancesOwner = {str = \"_balances[owner]wner]\"};\n",
    "        balance = {str = \"balance\"};\n",
    "        allowed = {str = \"_allowed[owner][spender]\"};\n",
    "        remaining = {str = \"remaining\"};\n",
    "        senderAdress = {str = \"msg.sender\"};\n",
    "        senderNewBalance = {str = \"_balances[msg.sender]\"};\n",
    "        recipientNewBalance = {str = \"_balances[to]\"};\n",
    "        oldBalance = {str = \"__verifier_old_uint(_balances[msg.sender])\"};\n",
    "        transferredValue = {str = \"value\"};\n",
    "        recipientAddress = {str = \"to\"};\n",
    "    \n",
    "        spenderAllowance = {str = \"_allowed[msg.sender ][ spender]\"};\n",
    "        specifiedValue = {str = \"value\"};\n",
    "        previousValue = {str = \"__verifier_old_uint ( _allowed[msg.sender ][ spender]\"};\n",
    "        \n",
    "        mkApproveExpression exp1 boolOp1 var1 boolOp2 exp2 boolOp3 var2 = {str = \"(\" ++ exp1.str ++ boolOp1.str ++ var1.str ++ \")\" ++ boolOp2.str ++ \"(\" ++ exp2.str ++ \")\" ++ boolOp3.str ++ var2.str ++ \")\"};\n",
    "        \n",
    "        mkComparativeExpression var1 boolOp var2 = {str = var1.str ++ boolOp.str ++ var2.str};\n",
    "        \n",
    "        mkTransferOldBalance var1 boolOp var2 = {str = \"(\" ++ var1.str ++ boolOp.str ++ var2.str ++ \")\"};\n",
    "        mkTransferSameOrDifferentAddress boolOp1 var1 boolOp2 var2 = {str = boolOp1.str ++ var1.str ++ boolOp2.str ++ var2.str};\n",
    "        mkTransferKeepBalance exp1 exp2 boolOp var = {str = \"(\" ++ exp1.str ++ exp2.str ++ \")\" ++ boolOp.str ++ var.str ++ \")\"};\n",
    "        mkOldBalancePlusMinusTransferredValue exp1 ariOp exp2 = {str = \"(\" ++ exp1.str ++ ariOp.str ++ exp2.str ++ \")\"};\n",
    "        mkTransferSubctractBalance exp1 ariOp var exp2 = {str = \"(\" ++ exp1.str ++ ariOp.str ++ var.str ++ exp2.str ++ \")\"}; \n",
    "        mkSenderNewBalance exp1 boolOp1 exp2 boolOp2 var = {str = exp1.str ++ boolOp1.str ++ exp2.str ++ boolOp2.str ++ var.str};\n",
    "        \n",
    "        mkDescription exp = exp;\n",
    "}"
   ]
  },
  {
   "cell_type": "markdown",
   "metadata": {},
   "source": [
    "### function totalSupply() external view returns (uint256);"
   ]
  },
  {
   "cell_type": "code",
   "execution_count": 440,
   "metadata": {},
   "outputs": [
    {
     "data": {
      "text/plain": [
       "supply == _totalSupply\n"
      ]
     },
     "metadata": {},
     "output_type": "display_data"
    }
   ],
   "source": [
    "parse -lang=ERC20Eng \"the resulting total supply of tokens should be equal to the total supply of tokens\" | linearize -lang=ERC20Formal"
   ]
  },
  {
   "cell_type": "markdown",
   "metadata": {},
   "source": [
    "### function balanceOf(address who) external view returns (uint256);"
   ]
  },
  {
   "cell_type": "code",
   "execution_count": 441,
   "metadata": {},
   "outputs": [
    {
     "data": {
      "text/plain": [
       "_balances[owner]wner] == balance\n"
      ]
     },
     "metadata": {},
     "output_type": "display_data"
    }
   ],
   "source": [
    "parse -lang=ERC20Eng \"the resulting balance of the specified address should be equal to the balance of the specified address\" | linearize -lang=ERC20Formal"
   ]
  },
  {
   "cell_type": "markdown",
   "metadata": {},
   "source": [
    "### function allowance(address owner, address spender) external view returns (uint256);"
   ]
  },
  {
   "cell_type": "code",
   "execution_count": 442,
   "metadata": {},
   "outputs": [
    {
     "data": {
      "text/plain": [
       "_allowed[owner][spender] == remaining\n"
      ]
     },
     "metadata": {},
     "output_type": "display_data"
    }
   ],
   "source": [
    "parse -lang=ERC20Eng \"the resulting allowance of the specified address should be equal to the allowance of the specified address\" | linearize -lang=ERC20Formal"
   ]
  },
  {
   "cell_type": "markdown",
   "metadata": {},
   "source": [
    "### function transfer(address to, uint256 value) external returns (bool);"
   ]
  },
  {
   "cell_type": "code",
   "execution_count": 443,
   "metadata": {},
   "outputs": [
    {
     "data": {
      "text/plain": [
       "( ( _balances[msg.sender] == __verifier_old_uint(_balances[msg.sender]) ) - value && msg.sender != to ) || ( _balances[msg.sender] == __verifier_old_uint(_balances[msg.sender]) ) && msg.sender == to && success || !success\n",
       "( ( _balances[msg.sender] == __verifier_old_uint(_balances[msg.sender]) ) - value && msg.sender != to ) || ( ( _balances[msg.sender] == __verifier_old_uint(_balances[msg.sender]) ) && msg.sender == to ) && success ) || !success\n",
       "( ( _balances[msg.sender] == __verifier_old_uint(_balances[msg.sender]) ) - value && msg.sender != to || ( _balances[msg.sender] == __verifier_old_uint(_balances[msg.sender]) ) && msg.sender == to && success || !success )\n",
       "( ( _balances[msg.sender] == __verifier_old_uint(_balances[msg.sender]) ) - value && msg.sender != to || ( ( _balances[msg.sender] == __verifier_old_uint(_balances[msg.sender]) ) && msg.sender == to ) && success ) || !success )\n"
      ]
     },
     "metadata": {},
     "output_type": "display_data"
    }
   ],
   "source": [
    "parse -lang=ERC20Eng \"the sender new balance should be equal to their old balance minus the transferred value if the sender address is not equal to the recipient address or the sender new balance should be equal to their old balance if the sender address is equal to the recipient address and the transfer is successful or the transfer is not successful\" | linearize -lang=ERC20Formal"
   ]
  },
  {
   "cell_type": "code",
   "execution_count": 449,
   "metadata": {},
   "outputs": [
    {
     "data": {
      "text/plain": [
       "( ( _balances[to] == __verifier_old_uint(_balances[msg.sender]) ) + value && msg.sender != to ) || ( _balances[to] == __verifier_old_uint(_balances[msg.sender]) ) && msg.sender == to && success || !success\n",
       "( ( _balances[to] == __verifier_old_uint(_balances[msg.sender]) ) + value && msg.sender != to ) || ( ( _balances[to] == __verifier_old_uint(_balances[msg.sender]) ) && msg.sender == to ) && success ) || !success\n",
       "( ( _balances[to] == __verifier_old_uint(_balances[msg.sender]) ) + value && msg.sender != to || ( _balances[to] == __verifier_old_uint(_balances[msg.sender]) ) && msg.sender == to && success || !success )\n",
       "( ( _balances[to] == __verifier_old_uint(_balances[msg.sender]) ) + value && msg.sender != to || ( ( _balances[to] == __verifier_old_uint(_balances[msg.sender]) ) && msg.sender == to ) && success ) || !success )\n"
      ]
     },
     "metadata": {},
     "output_type": "display_data"
    }
   ],
   "source": [
    "parse -lang=ERC20Eng \"the recipient new balance should be equal to their old balance plus the transferred value if the sender address is not equal to the recipient address or the recipient new balance should be equal to their old balance if the sender address is equal to the recipient address and the transfer is successful or the transfer is not successful\" | linearize -lang=ERC20Formal "
   ]
  },
  {
   "cell_type": "code",
   "execution_count": 445,
   "metadata": {},
   "outputs": [
    {
     "data": {
      "text/plain": [
       "mkDescription (mkTransferOldBalance senderNewBalance equals oldBalance)\n"
      ]
     },
     "metadata": {},
     "output_type": "display_data"
    }
   ],
   "source": [
    "parse -lang=ERC20Eng \"the sender new balance should be equal to their old balance\""
   ]
  },
  {
   "cell_type": "code",
   "execution_count": 446,
   "metadata": {},
   "outputs": [
    {
     "data": {
      "text/plain": [
       "mkDescription (mkTransferSameOrDifferentAddress and senderAdress equals recipientAddress)\n"
      ]
     },
     "metadata": {},
     "output_type": "display_data"
    }
   ],
   "source": [
    "parse -lang=ERC20Eng \"if the sender address is equal to the recipient address\""
   ]
  },
  {
   "cell_type": "code",
   "execution_count": 447,
   "metadata": {},
   "outputs": [
    {
     "data": {
      "text/plain": [
       "the sender new balance should be equal to their old balance and the sender address should be equal to the recipient address and the transfer is successful\n",
       "( _balances[msg.sender] == __verifier_old_uint(_balances[msg.sender]) ) && msg.sender == to && success\n",
       "the sender new balance should be equal to their old balance and the sender address should be equal to the recipient address and the transfer is successful\n",
       "( ( _balances[msg.sender] == __verifier_old_uint(_balances[msg.sender]) ) && msg.sender == to ) && success )\n"
      ]
     },
     "metadata": {},
     "output_type": "display_data"
    }
   ],
   "source": [
    "parse -lang=ERC20Eng \"the sender new balance should be equal to their old balance if the sender address is equal to the recipient address and the transfer is successful\" | linearize"
   ]
  },
  {
   "cell_type": "markdown",
   "metadata": {},
   "source": [
    "### function approve(address spender, uint256 value) external returns (bool);"
   ]
  },
  {
   "cell_type": "code",
   "execution_count": 456,
   "metadata": {},
   "outputs": [
    {
     "data": {
      "text/plain": [
       "the spender allowance should be equal to the specified value and the operation is successful or the spender allowance should be equal to the previous value and the operation is not successful\n",
       "( _allowed[msg.sender ][ spender] == value && success ) || ( _allowed[msg.sender ][ spender] == __verifier_old_uint ( _allowed[msg.sender ][ spender] ) && !success )\n"
      ]
     },
     "metadata": {},
     "output_type": "display_data"
    }
   ],
   "source": [
    "parse -lang=ERC20Eng \"the spender allowance should be equal to the specified value and the operation is successful or the spender allowance should be equal to the previous value if the operation is not successful\" | linearize"
   ]
  }
 ],
 "metadata": {
  "kernelspec": {
   "display_name": "GF",
   "language": "gf",
   "name": "gf"
  },
  "language_info": {
   "file_extension": ".gf",
   "mimetype": "text/gf",
   "name": "gf"
  }
 },
 "nbformat": 4,
 "nbformat_minor": 4
}
