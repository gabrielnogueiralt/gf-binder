{
 "cells": [
  {
   "cell_type": "code",
   "execution_count": 203,
   "metadata": {},
   "outputs": [
    {
     "data": {
      "text/plain": [
       "Defined ERC20"
      ]
     },
     "metadata": {},
     "output_type": "display_data"
    }
   ],
   "source": [
    "abstract ERC20 = {\n",
    "    flags startcat = Description;\n",
    "    cat\n",
    "        Description;\n",
    "        Variable;\n",
    "        BoolOperator;\n",
    "        Expression;\n",
    "    fun\n",
    "        mkExpression: Variable -> BoolOperator -> Variable -> Expression;\n",
    "        mkConditionalExpression: Expression -> BoolOperator -> Expression -> BoolOperator -> Variable -> BoolOperator -> Variable -> BoolOperator -> Variable -> Description;\n",
    "        mkDescription: Expression -> Description;\n",
    "        Equals, IsNotEqual, And, Or, Minus: BoolOperator;\n",
    "        TotalSupply, Supply, BalancesOwner, Balance, Allowed, Remaining, SenderAdress, SenderNewBalance, OldBalance, TransferredValue, RecipientAddress, TransferSuccessful, TransferNotSuccessful: Variable;\n",
    "}"
   ]
  },
  {
   "cell_type": "code",
   "execution_count": 204,
   "metadata": {},
   "outputs": [
    {
     "data": {
      "text/plain": [
       "Defined ERC20Eng"
      ]
     },
     "metadata": {},
     "output_type": "display_data"
    }
   ],
   "source": [
    "concrete ERC20Eng of ERC20 = {\n",
    "    lincat\n",
    "        Description = {str: Str};\n",
    "        Variable = {name: Str; desc: Str};\n",
    "        BoolOperator = {str: Str};\n",
    "        Expression = {str: Str};\n",
    "    lin\n",
    "        Equals = {str = \"should be equal to\"};\n",
    "        IsNotEqual = {str = \"is not equal to\"};\n",
    "        And = {str = \"and\"};\n",
    "        Or = {str = \"or\"};\n",
    "        Minus = {str = \"minus\"};\n",
    "        Supply = {name = \"supply\"; desc = \"resulting total supply of tokens\"};\n",
    "        TotalSupply = {name = \"_totalSupply\"; desc = \"total supply of tokens\"};\n",
    "        BalancesOwner = {name = \"_balances[owner]\"; desc = \"resulting balance of the specified address\"};\n",
    "        Balance = {name = \"balance\"; desc = \"balance of the specified address\"};\n",
    "        Allowed = {name = \"_allowed[owner][spender]\"; desc = \"resulting allowance of the specified address\"};\n",
    "        Remaining = {name = \"remaining\"; desc = \"allowance of the specified address\"};\n",
    "        SenderAdress = {name = \"msg.sender\"; desc = \"sender's address\"};\n",
    "        SenderNewBalance = {name = \"_balances[msg.sender]\"; desc = \"sender's new balance\"};\n",
    "        OldBalance = {name = \"__verifier_old_uint\"; desc = \"old balance\"};\n",
    "        TransferredValue = {name = \"value\"; desc = \"transferred value\"};\n",
    "        RecipientAddress = {name = \"to\"; desc = \"recipient's address\"};\n",
    "        TransferSuccessful = {name = \"success\"; desc = \"transfer is successful\"};\n",
    "        TransferNotSuccessful = {name = \"success\"; desc = \"transfer is not successful\"};\n",
    "        mkExpression var1 op var2 = {str = \"the\" ++ var1.desc ++ op.str ++ \"the\" ++ var2.desc};\n",
    "        mkConditionalExpression exp1 op1 exp2 op2 var1 op3 var2 op4 var3 = {str = \"the\" ++ exp1.str ++ op1.str ++ \"their\" ++ exp2.str ++ \"if the\" ++ var1.desc ++ op3.str ++ \"the\" ++ var2.desc ++ op2.str ++ \"the\" ++ var3.desc};\n",
    "        mkDescription exp = exp;\n",
    "}"
   ]
  },
  {
   "cell_type": "code",
   "execution_count": 205,
   "metadata": {},
   "outputs": [
    {
     "data": {
      "text/plain": [
       "Defined ERC20Formal"
      ]
     },
     "metadata": {},
     "output_type": "display_data"
    }
   ],
   "source": [
    "concrete ERC20Formal of ERC20 = {\n",
    "    lincat\n",
    "        Description = {str: Str};\n",
    "        Variable = {name: Str; desc: Str};\n",
    "        BoolOperator = {str: Str};\n",
    "        Expression = {str: Str};\n",
    "    lin\n",
    "        Equals = {str = \"==\"};\n",
    "        IsNotEqual = {str = \"!=\"};\n",
    "        And = {str = \"&&\"};\n",
    "        Or = {str = \"||\"};\n",
    "        Minus = {str = \"-\"};\n",
    "        TotalSupply = {name = \"_totalSupply\"; desc = \"_totalSupply\"};\n",
    "        Supply = {name = \"supply\"; desc = \"supply\"};\n",
    "        BalancesOwner = {name = \"_balances[owner]\"; desc = \"_balances[owner]\"};\n",
    "        Balance = {name = \"balance\"; desc = \"balance\"};\n",
    "        Allowed = {name = \"_allowed[owner][spender]\"; desc = \"_allowed[owner][spender]\"};\n",
    "        Remaining = {name = \"remaining\"; desc = \"remaining\"};\n",
    "        SenderAdress = {name = \"msg.sender\"; desc = \"msg.sender\"};\n",
    "        SenderNewBalance = {name = \"_balances[msg.sender]\"; desc = \"_balances[msg.sender]\"};\n",
    "        OldBalance = {name = \"__verifier_old_uint\"; desc = \"__verifier_old_uint\"};\n",
    "        TransferredValue = {name = \"value\"; desc = \"value\"};\n",
    "        RecipientAddress = {name = \"to\"; desc = \"to\"};\n",
    "        TransferSuccessful = {name = \"success\"; desc = \"success\"};\n",
    "        TransferNotSuccessful = {name = \"!success\"; desc = \"!success\"};\n",
    "        mkExpression var1 op var2 = {str = \"@notice postcondition\" ++ var1.desc ++ op.str ++ var2.desc};\n",
    "        mkConditionalExpression exp1 op1 exp2 op2 var1 op3 var2 op4 var3 = {str = \"@notice postcondition\" ++ exp1.str ++ op1.str ++ exp2.str ++ \",\" ++ \"then the\" ++ var1.desc ++ op3.str ++ var2.desc ++ op2.str ++ var3.desc};\n",
    "        mkDescription exp = exp;\n",
    "}"
   ]
  },
  {
   "cell_type": "markdown",
   "metadata": {},
   "source": [
    "function totalSupply() external view returns (uint256);"
   ]
  },
  {
   "cell_type": "code",
   "execution_count": 206,
   "metadata": {},
   "outputs": [
    {
     "data": {
      "text/plain": [
       "@notice postcondition supply == _totalSupply\n"
      ]
     },
     "metadata": {},
     "output_type": "display_data"
    }
   ],
   "source": [
    "parse -lang=ERC20Eng \"the resulting total supply of tokens should be equal to the total supply of tokens\" | linearize -lang=ERC20Formal"
   ]
  },
  {
   "cell_type": "markdown",
   "metadata": {},
   "source": [
    "function balanceOf(address who) external view returns (uint256);"
   ]
  },
  {
   "cell_type": "code",
   "execution_count": 207,
   "metadata": {},
   "outputs": [
    {
     "data": {
      "text/plain": [
       "@notice postcondition _balances[owner] == balance\n"
      ]
     },
     "metadata": {},
     "output_type": "display_data"
    }
   ],
   "source": [
    "parse -lang=ERC20Eng \"the resulting balance of the specified address should be equal to the balance of the specified address\" | linearize -lang=ERC20Formal"
   ]
  },
  {
   "cell_type": "markdown",
   "metadata": {},
   "source": [
    "function allowance(address owner, address spender) external view returns (uint256);"
   ]
  },
  {
   "cell_type": "code",
   "execution_count": 208,
   "metadata": {},
   "outputs": [
    {
     "data": {
      "text/plain": [
       "@notice postcondition _allowed[owner][spender] == remaining\n"
      ]
     },
     "metadata": {},
     "output_type": "display_data"
    }
   ],
   "source": [
    "parse -lang=ERC20Eng \"the resulting allowance of the specified address should be equal to the allowance of the specified address\" | linearize -lang=ERC20Formal"
   ]
  },
  {
   "cell_type": "code",
   "execution_count": 209,
   "metadata": {},
   "outputs": [],
   "source": [
    "parse -lang=ERC20Eng \"the sender's new balance should be equal to their old balance if  the sender's address is equal to the recipient's address and the transfer is successful\" | linearize -lang=ERC20Formal"
   ]
  },
  {
   "cell_type": "code",
   "execution_count": 210,
   "metadata": {},
   "outputs": [],
   "source": [
    "parse -lang=ERC20Eng \"the sender's new balance should be equal to their old balance if  the sender's address is equal to the recipient's address and the transfer is successful\" | linearize"
   ]
  },
  {
   "cell_type": "code",
   "execution_count": 211,
   "metadata": {},
   "outputs": [
    {
     "data": {
      "text/plain": [
       "the resulting allowance of the specified address should be equal to the allowance of the specified address\n",
       "@notice postcondition _allowed[owner][spender] == remaining\n"
      ]
     },
     "metadata": {},
     "output_type": "display_data"
    }
   ],
   "source": [
    "parse -lang=ERC20Eng \"the resulting allowance of the specified address should be equal to the allowance of the specified address\" | linearize"
   ]
  },
  {
   "cell_type": "code",
   "execution_count": null,
   "metadata": {},
   "outputs": [],
   "source": []
  }
 ],
 "metadata": {
  "kernelspec": {
   "display_name": "GF",
   "language": "gf",
   "name": "gf"
  },
  "language_info": {
   "file_extension": ".gf",
   "mimetype": "text/gf",
   "name": "gf"
  }
 },
 "nbformat": 4,
 "nbformat_minor": 4
}
