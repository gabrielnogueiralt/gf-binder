{
 "cells": [
  {
   "cell_type": "code",
   "execution_count": 84,
   "metadata": {},
   "outputs": [
    {
     "data": {
      "text/plain": [
       "Defined ERC20"
      ]
     },
     "metadata": {},
     "output_type": "display_data"
    }
   ],
   "source": [
    "abstract ERC20 = {\n",
    "    flags startcat = Description;\n",
    "    cat\n",
    "        Description;\n",
    "        Variable;\n",
    "        BoolOperator;\n",
    "        Expression;\n",
    "    fun\n",
    "        mkExpression: Variable -> BoolOperator -> Variable -> Expression;\n",
    "        mkDescription: Expression -> Description;\n",
    "        Equals: BoolOperator;\n",
    "        TotalSupply, Supply, BalancesOwner, Balance, Allowed, Remaining: Variable;\n",
    "}"
   ]
  },
  {
   "cell_type": "code",
   "execution_count": 85,
   "metadata": {},
   "outputs": [
    {
     "data": {
      "text/plain": [
       "Defined ERC20Eng"
      ]
     },
     "metadata": {},
     "output_type": "display_data"
    }
   ],
   "source": [
    "concrete ERC20Eng of ERC20 = {\n",
    "    lincat\n",
    "        Description = {str: Str};\n",
    "        Variable = {name: Str; desc: Str};\n",
    "        BoolOperator = {str: Str};\n",
    "        Expression = {str: Str};\n",
    "    lin\n",
    "        Equals = {str = \"should be equal to\"};\n",
    "        Supply = {name = \"supply\"; desc = \"resulting total supply of tokens\"};\n",
    "        TotalSupply = {name = \"_totalSupply\"; desc = \"total supply of tokens\"};\n",
    "        BalancesOwner = {name = \"_balances[owner]\"; desc = \"resulting balance of the specified address\"};\n",
    "        Balance = {name = \"balance\"; desc = \"balance of the specified address\"};\n",
    "        Allowed = {name = \"_allowed[owner][spender]\"; desc = \"resulting allowance of the specified address\"};\n",
    "        Remaining = {name = \"remaining\"; desc = \"allowance of the specified address\"};\n",
    "        mkExpression var1 op var2 = {str = \"the\" ++ var1.desc ++ op.str ++ \"the\" ++ var2.desc};\n",
    "        mkDescription exp = exp;\n",
    "}"
   ]
  },
  {
   "cell_type": "code",
   "execution_count": 86,
   "metadata": {},
   "outputs": [
    {
     "data": {
      "text/plain": [
       "Defined ERC20Formal"
      ]
     },
     "metadata": {},
     "output_type": "display_data"
    }
   ],
   "source": [
    "concrete ERC20Formal of ERC20 = {\n",
    "    lincat\n",
    "        Description = {str: Str};\n",
    "        Variable = {name: Str; desc: Str};\n",
    "        BoolOperator = {str: Str};\n",
    "        Expression = {str: Str};\n",
    "    lin\n",
    "        Equals = {str = \"==\"};\n",
    "        TotalSupply = {name = \"_totalSupply\"; desc = \"_totalSupply\"};\n",
    "        Supply = {name = \"supply\"; desc = \"supply\"};\n",
    "        BalancesOwner = {name = \"_balances[owner]\"; desc = \"_balances[owner]\"};\n",
    "        Balance = {name = \"balance\"; desc = \"balance\"};\n",
    "        Allowed = {name = \"_allowed[owner][spender]\"; desc = \"_allowed[owner][spender]\"};\n",
    "        Remaining = {name = \"remaining\"; desc = \"remaining\"};\n",
    "        mkExpression var1 op var2 = {str = \"@notice postcondition\" ++ var1.desc ++ op.str ++ var2.desc};\n",
    "        mkDescription exp = exp;\n",
    "}"
   ]
  },
  {
   "cell_type": "markdown",
   "metadata": {},
   "source": [
    "function totalSupply() external view returns (uint256);"
   ]
  },
  {
   "cell_type": "code",
   "execution_count": 87,
   "metadata": {},
   "outputs": [
    {
     "data": {
      "text/plain": [
       "@notice postcondition supply == _totalSupply\n"
      ]
     },
     "metadata": {},
     "output_type": "display_data"
    }
   ],
   "source": [
    "parse -lang=ERC20Eng \"the resulting total supply of tokens should be equal to the total supply of tokens\" | linearize -lang=ERC20Formal"
   ]
  },
  {
   "cell_type": "markdown",
   "metadata": {},
   "source": [
    "function balanceOf(address who) external view returns (uint256);"
   ]
  },
  {
   "cell_type": "code",
   "execution_count": 88,
   "metadata": {},
   "outputs": [
    {
     "data": {
      "text/plain": [
       "@notice postcondition supply == _totalSupply\n"
      ]
     },
     "metadata": {},
     "output_type": "display_data"
    }
   ],
   "source": [
    "parse -lang=ERC20Eng \"the resulting total supply of tokens should be equal to the total supply of tokens\" | linearize -lang=ERC20Formal"
   ]
  },
  {
   "cell_type": "markdown",
   "metadata": {},
   "source": [
    "function allowance(address owner, address spender) external view returns (uint256);"
   ]
  },
  {
   "cell_type": "code",
   "execution_count": 89,
   "metadata": {},
   "outputs": [
    {
     "data": {
      "text/plain": [
       "@notice postcondition _allowed[owner][spender] == remaining\n"
      ]
     },
     "metadata": {},
     "output_type": "display_data"
    }
   ],
   "source": [
    "parse -lang=ERC20Eng \"the resulting allowance of the specified address should be equal to the allowance of the specified address\" | linearize -lang=ERC20Formal"
   ]
  },
  {
   "cell_type": "code",
   "execution_count": null,
   "metadata": {},
   "outputs": [],
   "source": []
  }
 ],
 "metadata": {
  "kernelspec": {
   "display_name": "GF",
   "language": "gf",
   "name": "gf"
  },
  "language_info": {
   "file_extension": ".gf",
   "mimetype": "text/gf",
   "name": "gf"
  }
 },
 "nbformat": 4,
 "nbformat_minor": 4
}
